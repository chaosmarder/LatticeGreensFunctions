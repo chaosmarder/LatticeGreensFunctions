{
 "cells": [
  {
   "cell_type": "code",
   "execution_count": 1,
   "metadata": {},
   "outputs": [],
   "source": [
    "import numpy as np\n",
    "from LatticeGreensFunctions_mpmath import *\n",
    "from mpmath import mp, mpf"
   ]
  },
  {
   "cell_type": "code",
   "execution_count": 2,
   "metadata": {},
   "outputs": [],
   "source": [
    "er=-.0000001\n",
    "ei=1.e-12\n",
    "e=er-1j*ei\n",
    "ymax=3\n",
    "dps=max(ymax,20)#Suggested value for precision"
   ]
  },
  {
   "cell_type": "markdown",
   "metadata": {},
   "source": [
    "# Routines using mpmath"
   ]
  },
  {
   "cell_type": "markdown",
   "metadata": {},
   "source": [
    "## Routine in the complex plane \n",
    " The routine gsf_mp(e,ymax) returns an upper diagonal matrix whose entries are $G_0(m,n,E)$, \n",
    "where $E$ is in the complex plane, and $m\\leq n \\leq$ ymax. Because this uses mpmath, it is not as fast \n",
    "as the next routine, which uses arb, but it does not require anything to be compiled."
   ]
  },
  {
   "cell_type": "code",
   "execution_count": 3,
   "metadata": {},
   "outputs": [
    {
     "data": {
      "text/plain": [
       "array([[1.55843182+0.24999921j, 0.        +0.j        ,\n",
       "        0.        +0.j        , 0.        +0.j        ],\n",
       "       [1.30843178+0.2499992j , 1.24012186+0.24999919j,\n",
       "        0.        +0.j        , 0.        +0.j        ],\n",
       "       [1.19505145+0.24999918j, 1.17181187+0.24999918j,\n",
       "        1.13401837+0.24999916j, 0.        +0.j        ],\n",
       "       [1.12815016+0.24999915j, 1.1180557 +0.24999914j,\n",
       "        1.09622481+0.24999913j, 1.0703561 +0.24999909j]])"
      ]
     },
     "execution_count": 3,
     "metadata": {},
     "output_type": "execute_result"
    }
   ],
   "source": [
    "mp.dps=dps\n",
    "gsf_mp(e,ymax)"
   ]
  },
  {
   "cell_type": "markdown",
   "metadata": {},
   "source": [
    "## Routine on the negative real axis\n",
    "The routine gsf_f_mp(f,ymax) returns the same matrix as the previous routine, but with the difference that the argument lies on\n",
    "the real line between -8 and 0 (and is assumed to have infinitesimal negative imaginary part). Instead of specifying $E$, the routine\n",
    "asks for $f=-\\log(-E)$. This makes it possible to get $E$ that is very close to zero using input in double precision."
   ]
  },
  {
   "cell_type": "code",
   "execution_count": 4,
   "metadata": {},
   "outputs": [
    {
     "data": {
      "text/plain": [
       "array([[1.55843182+0.25j      , 0.        +0.j        ,\n",
       "        0.        +0.j        , 0.        +0.j        ],\n",
       "       [1.30843178+0.25j      , 1.24012186+0.24999999j,\n",
       "        0.        +0.j        , 0.        +0.j        ],\n",
       "       [1.19505145+0.24999998j, 1.17181187+0.24999997j,\n",
       "        1.13401837+0.24999995j, 0.        +0.j        ],\n",
       "       [1.12815016+0.24999995j, 1.1180557 +0.24999994j,\n",
       "        1.09622481+0.24999992j, 1.0703561 +0.24999989j]])"
      ]
     },
     "execution_count": 4,
     "metadata": {},
     "output_type": "execute_result"
    }
   ],
   "source": [
    "f=-np.log(-er)\n",
    "dps=max(ymax,1.5*f,20) #Suggested value for precision\n",
    "mp.dps=dps\n",
    "gsf_f_mp(f,ymax)"
   ]
  },
  {
   "cell_type": "markdown",
   "metadata": {},
   "source": [
    "# Routine using arb"
   ]
  },
  {
   "cell_type": "code",
   "execution_count": 5,
   "metadata": {},
   "outputs": [],
   "source": [
    "import numpy as np\n",
    "from LatticeGreensFunctions_arb import *"
   ]
  },
  {
   "cell_type": "code",
   "execution_count": 6,
   "metadata": {},
   "outputs": [],
   "source": [
    "er=-.0000001\n",
    "ei=-1.e-12\n",
    "ymax=3\n",
    "dps=max(ymax,1.5*(-np.log(-er)),20) #Suggested value for precision\n",
    "(I,O)=InitializeDataStructures(ymax)"
   ]
  },
  {
   "cell_type": "markdown",
   "metadata": {},
   "source": [
    "## Computation on negative real axis\n",
    "This routine takes input through the structure I and returns the output in O. The components of I are shown below.\n",
    "The components of O are GrP and GiP, which return Python representations of upper diagonal matrices with components\n",
    "of $G_0(m,n,E)$, just as for the mpmath routines above. (The routine also returns C pointers O.Gr and O.Gi, which you probably\n",
    "will not need.) If I.IsF is set to 1, the routine expects the real argument $f=-\\log(-E)$, where $E\\in[-8,0)$ and the result\n",
    "is in the limit of infinitesimal negative imaginary part."
   ]
  },
  {
   "cell_type": "code",
   "execution_count": 7,
   "metadata": {},
   "outputs": [],
   "source": [
    "I.ymax=ymax\n",
    "I.prec=int(dps*3.3)\n",
    "I.er=er\n",
    "I.ei=ei\n",
    "I.IsF=1\n",
    "I.f=-np.log(-er)"
   ]
  },
  {
   "cell_type": "code",
   "execution_count": 8,
   "metadata": {},
   "outputs": [
    {
     "data": {
      "text/plain": [
       "array([array([1.55843182+0.25j, 0.        +0.j  , 0.        +0.j  ,\n",
       "              0.        +0.j  ])                                   ,\n",
       "       array([1.30843178+0.25j      , 1.24012186+0.24999999j,\n",
       "              0.        +0.j        , 0.        +0.j        ]),\n",
       "       array([1.19505145+0.24999998j, 1.17181187+0.24999997j,\n",
       "              1.13401837+0.24999995j, 0.        +0.j        ]),\n",
       "       array([1.12815016+0.24999995j, 1.1180557 +0.24999994j,\n",
       "              1.09622481+0.24999992j, 1.0703561 +0.24999989j])],\n",
       "      dtype=object)"
      ]
     },
     "execution_count": 8,
     "metadata": {},
     "output_type": "execute_result"
    }
   ],
   "source": [
    "G0(I,O)\n",
    "O.GrP+1j*O.GiP"
   ]
  },
  {
   "cell_type": "markdown",
   "metadata": {},
   "source": [
    "## Computation using the real and complex parts er and ei rather than f\n",
    "With the flag I.Is.F set to 0, the routine calculates for $E$ anywhere in the complex plane."
   ]
  },
  {
   "cell_type": "code",
   "execution_count": 9,
   "metadata": {},
   "outputs": [
    {
     "data": {
      "text/plain": [
       "array([array([1.55843182+0.24999921j, 0.        +0.j        ,\n",
       "              0.        +0.j        , 0.        +0.j        ]),\n",
       "       array([1.30843178+0.2499992j , 1.24012186+0.24999919j,\n",
       "              0.        +0.j        , 0.        +0.j        ]),\n",
       "       array([1.19505145+0.24999918j, 1.17181187+0.24999918j,\n",
       "              1.13401837+0.24999916j, 0.        +0.j        ]),\n",
       "       array([1.12815016+0.24999915j, 1.1180557 +0.24999914j,\n",
       "              1.09622481+0.24999913j, 1.0703561 +0.24999909j])],\n",
       "      dtype=object)"
      ]
     },
     "execution_count": 9,
     "metadata": {},
     "output_type": "execute_result"
    }
   ],
   "source": [
    "I.IsF=0\n",
    "G0(I,O)\n",
    "O.GrP+1j*O.GiP"
   ]
  }
 ],
 "metadata": {
  "kernelspec": {
   "display_name": "Python 3 (ipykernel)",
   "language": "python",
   "name": "python3"
  },
  "language_info": {
   "codemirror_mode": {
    "name": "ipython",
    "version": 3
   },
   "file_extension": ".py",
   "mimetype": "text/x-python",
   "name": "python",
   "nbconvert_exporter": "python",
   "pygments_lexer": "ipython3",
   "version": "3.9.7"
  }
 },
 "nbformat": 4,
 "nbformat_minor": 4
}
